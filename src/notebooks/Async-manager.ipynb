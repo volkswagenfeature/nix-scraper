{
 "cells": [
  {
   "cell_type": "markdown",
   "id": "c62c1fe8-e534-41f6-99a5-f62596ff8e68",
   "metadata": {
    "jp-MarkdownHeadingCollapsed": true,
    "jupyter": {
     "source_hidden": true
    },
    "tags": []
   },
   "source": [
    "# Design:\n",
    "Hearchy is like this:\n",
    "- server 001\n",
    "    - running jobs\n",
    "        - Job 996 \n",
    "        - Job 997 (hanging)\n",
    "        - Job 998 \n",
    "        - Job 999\n",
    "- server 002\n",
    "- server 003\n",
    "\n",
    "The control variables are:\n",
    "- `simcon` (simultanious connection count. Should be smaller than the difference between `batchsize` and `batchpause_count`)\n",
    "- `batchsize`        (the absolute maximum number of pages before a hard_batchpause. larger than `batchpause_count`)\n",
    "- `batchpause`  (the time to wait after you stop adding new connections. Longer than `hard_batchpause`)\n",
    "- `hangtime`         (How long a job can wait before it hangs)\n",
    "- `timeout`          (the absolute maximum time before giving up on a page)\n",
    "- `batchadd_delay`   (A hard delay before pulling any job from the waiting jobs pool)          \n",
    "\n",
    "Stat\n",
    "\n",
    "\n",
    "\n",
    "For each server:\n",
    "1) execution begins\n",
    "2) URLs are loaded from the pool, waiting `batchadd_delay` between additions, until there are `simcon` open connections.\n",
    "3) If a given server hangs for more than `hangdev` standdard deviations from the server's mean time, it is marked as hung, and no longer counts towards `simcon`\n",
    "4) After `batchsize` urls have been opened, no more URLs are loaded from the pool. Once all connections have completed or hung, `batchpause` starts\n",
    "5) Any jobs that are hung have up to `timeout` standard deviations from the server's mean time to complete before they are marked as failed. \n",
    "6) After `batchpause`, goto 1\n",
    "7) \n"
   ]
  },
  {
   "cell_type": "markdown",
   "id": "1de9e699-243b-4892-b7db-a3b6df8ac90a",
   "metadata": {
    "jupyter": {
     "source_hidden": true
    },
    "tags": []
   },
   "source": [
    "# Alternatively...\n",
    "\n",
    "Be smart about this. Test each strategy. Does clustering actually help? What portion of requests hang? What's the performance of the proxies, and what do they put in each request?"
   ]
  },
  {
   "cell_type": "code",
   "execution_count": 1,
   "id": "5c386534-0082-4a08-b570-14dc587612cd",
   "metadata": {},
   "outputs": [],
   "source": [
    "import huey\n",
    "import sys\n",
    "import os\n",
    "\n",
    "import pprint\n"
   ]
  },
  {
   "cell_type": "code",
   "execution_count": 2,
   "id": "2aa34116-960c-4f6e-864a-72f4adedde4e",
   "metadata": {
    "tags": []
   },
   "outputs": [],
   "source": [
    "sys.path.append(\"../libs/\")\n",
    "import huey_tasks as h"
   ]
  },
  {
   "cell_type": "code",
   "execution_count": null,
   "id": "23ec2422-c68e-42d4-9787-32c6d3672b73",
   "metadata": {
    "tags": []
   },
   "outputs": [],
   "source": []
  },
  {
   "cell_type": "code",
   "execution_count": 5,
   "id": "c30b2144-2294-4857-8bfd-58f200a29313",
   "metadata": {
    "tags": []
   },
   "outputs": [],
   "source": [
    "res = h.returnval(1,3)"
   ]
  },
  {
   "cell_type": "code",
   "execution_count": null,
   "id": "17658ba0-91bf-416d-b659-3a3cc976f822",
   "metadata": {
    "tags": []
   },
   "outputs": [],
   "source": [
    "res.get(blocking=True)"
   ]
  },
  {
   "cell_type": "code",
   "execution_count": null,
   "id": "f1579bfe-d84c-4bf4-9fa4-f047e6a74819",
   "metadata": {
    "tags": []
   },
   "outputs": [],
   "source": []
  },
  {
   "cell_type": "code",
   "execution_count": null,
   "id": "31422f82-0908-42d7-871d-8398e3b20912",
   "metadata": {},
   "outputs": [],
   "source": []
  }
 ],
 "metadata": {
  "kernelspec": {
   "display_name": "python-webscraper kernel",
   "language": "python",
   "name": "python-webscraper"
  },
  "language_info": {
   "codemirror_mode": {
    "name": "ipython",
    "version": 3
   },
   "file_extension": ".py",
   "mimetype": "text/x-python",
   "name": "python",
   "nbconvert_exporter": "python",
   "pygments_lexer": "ipython3",
   "version": "3.10.9"
  }
 },
 "nbformat": 4,
 "nbformat_minor": 5
}
