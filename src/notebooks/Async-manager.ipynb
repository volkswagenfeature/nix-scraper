{
 "cells": [
  {
   "cell_type": "markdown",
   "id": "c62c1fe8-e534-41f6-99a5-f62596ff8e68",
   "metadata": {},
   "source": [
    "# Design:\n",
    "Hearchy is like this:\n",
    "- server 001\n",
    "    - running jobs\n",
    "        - Job 996 \n",
    "        - Job 997 (hanging)\n",
    "        - Job 998 \n",
    "        - Job 999\n",
    "- server 002\n",
    "- server 003\n",
    "\n",
    "The control variables are:\n",
    "- `simcon` (simultanious connection count. Should be smaller than the difference between `batchsize` and `batchpause_count`)\n",
    "- `batchsize`        (the absolute maximum number of pages before a hard_batchpause. larger than `batchpause_count`)\n",
    "- `batchpause`  (the time to wait after you stop adding new connections. Longer than `hard_batchpause`)\n",
    "- `hangtime`         (How long a job can wait before it hangs)\n",
    "- `timeout`          (the absolute maximum time before giving up on a page)\n",
    "- `batchadd_delay`   (A hard delay before pulling any job from the waiting jobs pool)          \n",
    "\n",
    "Stat\n",
    "\n",
    "\n",
    "\n",
    "For each server:\n",
    "1) execution begins\n",
    "2) URLs are loaded from the pool, waiting `batchadd_delay` between additions, until there are `simcon` open connections.\n",
    "3) If a given server hangs for more than `hangdev` standdard deviations from the server's mean time, it is marked as hung, and no longer counts towards `simcon`\n",
    "4) After `batchsize` urls have been opened, no more URLs are loaded from the pool. Once all connections have completed or hung, `batchpause` starts\n",
    "5) Any jobs that are hung have up to `timeout` standard deviations from the server's mean time to complete before they are marked as failed. \n",
    "6) After `batchpause`, goto 1\n",
    "7) \n"
   ]
  },
  {
   "cell_type": "markdown",
   "id": "1de9e699-243b-4892-b7db-a3b6df8ac90a",
   "metadata": {},
   "source": [
    "# Alternatively...\n",
    "\n",
    "Be smart about this. Test each strategy. Does clustering actually help? What portion of requests hang? What's the performance of the proxies, and what do they put in each request?"
   ]
  },
  {
   "cell_type": "code",
   "execution_count": null,
   "id": "5c386534-0082-4a08-b570-14dc587612cd",
   "metadata": {},
   "outputs": [],
   "source": []
  }
 ],
 "metadata": {
  "kernelspec": {
   "display_name": "python-webscraper kernel",
   "language": "python",
   "name": "python-webscraper"
  },
  "language_info": {
   "codemirror_mode": {
    "name": "ipython",
    "version": 3
   },
   "file_extension": ".py",
   "mimetype": "text/x-python",
   "name": "python",
   "nbconvert_exporter": "python",
   "pygments_lexer": "ipython3",
   "version": "3.10.9"
  }
 },
 "nbformat": 4,
 "nbformat_minor": 5
}
